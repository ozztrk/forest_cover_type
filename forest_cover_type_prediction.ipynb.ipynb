{
 "cells": [
  {
   "attachments": {},
   "cell_type": "markdown",
   "metadata": {},
   "source": [
    "**Data**<br>\n",
    "The dataset \"Covertype\" from the UCI Machine Learning Repository (https://archive.ics.uci.edu/ml/datasets/Covertype or https://github.com/jeffheaton/data/blob/master/covtype.csv) contains various attributes related to the characteristics of forests, along with a target variable called Cover_Type that describes the type of forest."
   ]
  },
  {
   "cell_type": "code",
   "execution_count": 60,
   "metadata": {},
   "outputs": [],
   "source": [
    "import pandas as pd\n",
    "import torch\n",
    "import torch.nn as nn\n",
    "import torch.nn.functional as F\n",
    "from torch.utils.data import Dataset, DataLoader\n",
    "from torchmetrics import Accuracy\n",
    "from sklearn.preprocessing import StandardScaler\n",
    "from sklearn.model_selection import train_test_split\n",
    "from tqdm import tqdm\n",
    "import matplotlib.pyplot as plt\n",
    "import numpy as np"
   ]
  },
  {
   "cell_type": "code",
   "execution_count": 61,
   "metadata": {},
   "outputs": [
    {
     "name": "stdout",
     "output_type": "stream",
     "text": [
      "cuda\n"
     ]
    }
   ],
   "source": [
    "device = torch.device(\"cuda\" if torch.cuda.is_available() else \"cpu\")\n",
    "print(device)"
   ]
  },
  {
   "attachments": {},
   "cell_type": "markdown",
   "metadata": {},
   "source": [
    "### Load and Preprocess Data"
   ]
  },
  {
   "cell_type": "code",
   "execution_count": 62,
   "metadata": {},
   "outputs": [],
   "source": [
    "df = pd.read_csv(\"Daten Blatt 3/covtype.csv\")\n",
    "\n",
    "y = df.cover_type\n",
    "X = df.drop(\"cover_type\", axis=1)\n",
    "X_train, X_test, y_train, y_test = train_test_split(X, y, test_size=0.2, random_state=1)\n",
    "\n",
    "scaler = StandardScaler()\n",
    "X_train = scaler.fit_transform(X_train)\n",
    "X_test = scaler.transform(X_test)\n",
    "\n",
    "X_train = torch.tensor(X_train, dtype=torch.float32)\n",
    "X_test = torch.tensor(X_test, dtype=torch.float32)\n",
    "y_train = torch.tensor(y_train.values, dtype=torch.int64)\n",
    "y_test = torch.tensor(y_test.values, dtype=torch.int64)"
   ]
  },
  {
   "cell_type": "code",
   "execution_count": 63,
   "metadata": {},
   "outputs": [
    {
     "data": {
      "text/html": [
       "<div>\n",
       "<style scoped>\n",
       "    .dataframe tbody tr th:only-of-type {\n",
       "        vertical-align: middle;\n",
       "    }\n",
       "\n",
       "    .dataframe tbody tr th {\n",
       "        vertical-align: top;\n",
       "    }\n",
       "\n",
       "    .dataframe thead th {\n",
       "        text-align: right;\n",
       "    }\n",
       "</style>\n",
       "<table border=\"1\" class=\"dataframe\">\n",
       "  <thead>\n",
       "    <tr style=\"text-align: right;\">\n",
       "      <th></th>\n",
       "      <th>elevation</th>\n",
       "      <th>aspect</th>\n",
       "      <th>slope</th>\n",
       "      <th>horizontal_distance_to_hydrology</th>\n",
       "      <th>vertical_distance_to_hydrology</th>\n",
       "      <th>horizontal_distance_to_roadways</th>\n",
       "      <th>hillshade_9am</th>\n",
       "      <th>hillshade_noon</th>\n",
       "      <th>hillshade_3pm</th>\n",
       "      <th>horizontal_distance_to_fire_points</th>\n",
       "      <th>...</th>\n",
       "      <th>soil_type_32</th>\n",
       "      <th>soil_type_33</th>\n",
       "      <th>soil_type_34</th>\n",
       "      <th>soil_type_35</th>\n",
       "      <th>soil_type_36</th>\n",
       "      <th>soil_type_37</th>\n",
       "      <th>soil_type_38</th>\n",
       "      <th>soil_type_39</th>\n",
       "      <th>soil_type_40</th>\n",
       "      <th>cover_type</th>\n",
       "    </tr>\n",
       "  </thead>\n",
       "  <tbody>\n",
       "    <tr>\n",
       "      <th>0</th>\n",
       "      <td>2596</td>\n",
       "      <td>51</td>\n",
       "      <td>3</td>\n",
       "      <td>258</td>\n",
       "      <td>0</td>\n",
       "      <td>510</td>\n",
       "      <td>221</td>\n",
       "      <td>232</td>\n",
       "      <td>148</td>\n",
       "      <td>6279</td>\n",
       "      <td>...</td>\n",
       "      <td>0</td>\n",
       "      <td>0</td>\n",
       "      <td>0</td>\n",
       "      <td>0</td>\n",
       "      <td>0</td>\n",
       "      <td>0</td>\n",
       "      <td>0</td>\n",
       "      <td>0</td>\n",
       "      <td>0</td>\n",
       "      <td>5</td>\n",
       "    </tr>\n",
       "    <tr>\n",
       "      <th>1</th>\n",
       "      <td>2590</td>\n",
       "      <td>56</td>\n",
       "      <td>2</td>\n",
       "      <td>212</td>\n",
       "      <td>-6</td>\n",
       "      <td>390</td>\n",
       "      <td>220</td>\n",
       "      <td>235</td>\n",
       "      <td>151</td>\n",
       "      <td>6225</td>\n",
       "      <td>...</td>\n",
       "      <td>0</td>\n",
       "      <td>0</td>\n",
       "      <td>0</td>\n",
       "      <td>0</td>\n",
       "      <td>0</td>\n",
       "      <td>0</td>\n",
       "      <td>0</td>\n",
       "      <td>0</td>\n",
       "      <td>0</td>\n",
       "      <td>5</td>\n",
       "    </tr>\n",
       "    <tr>\n",
       "      <th>2</th>\n",
       "      <td>2804</td>\n",
       "      <td>139</td>\n",
       "      <td>9</td>\n",
       "      <td>268</td>\n",
       "      <td>65</td>\n",
       "      <td>3180</td>\n",
       "      <td>234</td>\n",
       "      <td>238</td>\n",
       "      <td>135</td>\n",
       "      <td>6121</td>\n",
       "      <td>...</td>\n",
       "      <td>0</td>\n",
       "      <td>0</td>\n",
       "      <td>0</td>\n",
       "      <td>0</td>\n",
       "      <td>0</td>\n",
       "      <td>0</td>\n",
       "      <td>0</td>\n",
       "      <td>0</td>\n",
       "      <td>0</td>\n",
       "      <td>2</td>\n",
       "    </tr>\n",
       "    <tr>\n",
       "      <th>3</th>\n",
       "      <td>2785</td>\n",
       "      <td>155</td>\n",
       "      <td>18</td>\n",
       "      <td>242</td>\n",
       "      <td>118</td>\n",
       "      <td>3090</td>\n",
       "      <td>238</td>\n",
       "      <td>238</td>\n",
       "      <td>122</td>\n",
       "      <td>6211</td>\n",
       "      <td>...</td>\n",
       "      <td>0</td>\n",
       "      <td>0</td>\n",
       "      <td>0</td>\n",
       "      <td>0</td>\n",
       "      <td>0</td>\n",
       "      <td>0</td>\n",
       "      <td>0</td>\n",
       "      <td>0</td>\n",
       "      <td>0</td>\n",
       "      <td>2</td>\n",
       "    </tr>\n",
       "    <tr>\n",
       "      <th>4</th>\n",
       "      <td>2595</td>\n",
       "      <td>45</td>\n",
       "      <td>2</td>\n",
       "      <td>153</td>\n",
       "      <td>-1</td>\n",
       "      <td>391</td>\n",
       "      <td>220</td>\n",
       "      <td>234</td>\n",
       "      <td>150</td>\n",
       "      <td>6172</td>\n",
       "      <td>...</td>\n",
       "      <td>0</td>\n",
       "      <td>0</td>\n",
       "      <td>0</td>\n",
       "      <td>0</td>\n",
       "      <td>0</td>\n",
       "      <td>0</td>\n",
       "      <td>0</td>\n",
       "      <td>0</td>\n",
       "      <td>0</td>\n",
       "      <td>5</td>\n",
       "    </tr>\n",
       "  </tbody>\n",
       "</table>\n",
       "<p>5 rows × 55 columns</p>\n",
       "</div>"
      ],
      "text/plain": [
       "   elevation  aspect  slope  horizontal_distance_to_hydrology   \n",
       "0       2596      51      3                               258  \\\n",
       "1       2590      56      2                               212   \n",
       "2       2804     139      9                               268   \n",
       "3       2785     155     18                               242   \n",
       "4       2595      45      2                               153   \n",
       "\n",
       "   vertical_distance_to_hydrology  horizontal_distance_to_roadways   \n",
       "0                               0                              510  \\\n",
       "1                              -6                              390   \n",
       "2                              65                             3180   \n",
       "3                             118                             3090   \n",
       "4                              -1                              391   \n",
       "\n",
       "   hillshade_9am  hillshade_noon  hillshade_3pm   \n",
       "0            221             232            148  \\\n",
       "1            220             235            151   \n",
       "2            234             238            135   \n",
       "3            238             238            122   \n",
       "4            220             234            150   \n",
       "\n",
       "   horizontal_distance_to_fire_points  ...  soil_type_32  soil_type_33   \n",
       "0                                6279  ...             0             0  \\\n",
       "1                                6225  ...             0             0   \n",
       "2                                6121  ...             0             0   \n",
       "3                                6211  ...             0             0   \n",
       "4                                6172  ...             0             0   \n",
       "\n",
       "   soil_type_34  soil_type_35  soil_type_36  soil_type_37  soil_type_38   \n",
       "0             0             0             0             0             0  \\\n",
       "1             0             0             0             0             0   \n",
       "2             0             0             0             0             0   \n",
       "3             0             0             0             0             0   \n",
       "4             0             0             0             0             0   \n",
       "\n",
       "   soil_type_39  soil_type_40  cover_type  \n",
       "0             0             0           5  \n",
       "1             0             0           5  \n",
       "2             0             0           2  \n",
       "3             0             0           2  \n",
       "4             0             0           5  \n",
       "\n",
       "[5 rows x 55 columns]"
      ]
     },
     "execution_count": 63,
     "metadata": {},
     "output_type": "execute_result"
    }
   ],
   "source": [
    "df.head()"
   ]
  },
  {
   "cell_type": "code",
   "execution_count": 64,
   "metadata": {},
   "outputs": [
    {
     "data": {
      "text/plain": [
       "[1, 2, 3, 4, 5, 6, 7]"
      ]
     },
     "execution_count": 64,
     "metadata": {},
     "output_type": "execute_result"
    }
   ],
   "source": [
    "sorted(df[\"cover_type\"].unique())"
   ]
  },
  {
   "cell_type": "code",
   "execution_count": 66,
   "metadata": {},
   "outputs": [],
   "source": [
    "class CustomDataset(Dataset):\n",
    "    def __init__(self, data, targets):\n",
    "        self.data = data\n",
    "        self.targets = targets\n",
    "\n",
    "    def __len__(self):\n",
    "        return len(self.data)\n",
    "\n",
    "    def __getitem__(self, idx):\n",
    "        sample = self.data[idx]\n",
    "        target = self.targets[idx] - 1\n",
    "        return sample, target\n",
    "\n",
    "train_dataset = CustomDataset(X_train, y_train)\n",
    "train_dataloader = DataLoader(train_dataset, batch_size=batch_size, shuffle=True)\n",
    "\n",
    "test_dataset = CustomDataset(X_test, y_test)\n",
    "test_dataloader = DataLoader(test_dataset, batch_size=128, shuffle=False)\n"
   ]
  },
  {
   "attachments": {},
   "cell_type": "markdown",
   "metadata": {},
   "source": [
    "### Define Network Architecture"
   ]
  },
  {
   "attachments": {},
   "cell_type": "markdown",
   "metadata": {},
   "source": [
    "The Kaiming initialization adjusts the standard deviation of the normal distribution based on the chosen nonlinearity to ensure proper scaling of the weights.\n",
    "\n",
    "Batch normalization is used normalize the activations of each mini-batch during training, which helps stabilize and accelerate the learning process by dealing with kovariant shift in hidden layers.\n",
    "\n",
    "The Kaiming initialization adjusts the standard deviation of the normal distribution based on the chosen nonlinearity to ensure proper scaling of the weights.\n",
    "\n",
    "This initialization method is especially good for the popular Relu activation function, which also helps to prevent overfitting.\n",
    "\n",
    "In this case the leaky Relu activationfunction is used to preserve information from negative values of z.\n"
   ]
  },
  {
   "cell_type": "code",
   "execution_count": 67,
   "metadata": {},
   "outputs": [],
   "source": [
    "class Net(nn.Module):\n",
    "    def __init__(self):\n",
    "        super(Net, self).__init__()\n",
    "        self.fc1 = nn.Linear(54, 256)\n",
    "        self.bn1 = nn.BatchNorm1d(256)\n",
    "        self.fc2 = nn.Linear(256, 128)\n",
    "        self.bn2 = nn.BatchNorm1d(128)\n",
    "        self.fc3 = nn.Linear(128, 128)\n",
    "        self.bn3 = nn.BatchNorm1d(128)\n",
    "        self.fc4 = nn.Linear(128, 64)\n",
    "        self.bn4 = nn.BatchNorm1d(64)\n",
    "        self.fc5 = nn.Linear(64, 16)\n",
    "        self.bn5 = nn.BatchNorm1d(16)\n",
    "        self.fc6 = nn.Linear(16, 7)\n",
    "        self._init_weights()\n",
    "\n",
    "    def _init_weights(self):\n",
    "        for m in self.modules():\n",
    "            if isinstance(m, nn.Linear):\n",
    "                nn.init.kaiming_normal_(m.weight, nonlinearity='leaky_relu')\n",
    "\n",
    "    def forward(self, x):\n",
    "        x = x.view(-1, 54)\n",
    "        x = self.fc1(x)\n",
    "        x = self.bn1(x)\n",
    "        x = F.leaky_relu(x, negative_slope=0.01)\n",
    "        x = self.fc2(x)\n",
    "        x = self.bn2(x)\n",
    "        x = F.leaky_relu(x, negative_slope=0.01)\n",
    "        x = self.fc3(x)\n",
    "        x = self.bn3(x)\n",
    "        x = F.leaky_relu(x, negative_slope=0.01)\n",
    "        x = self.fc4(x)\n",
    "        x = self.bn4(x)\n",
    "        x = F.leaky_relu(x, negative_slope=0.01)\n",
    "        x = self.fc5(x)\n",
    "        x = self.bn5(x)\n",
    "        x = F.leaky_relu(x, negative_slope=0.01)\n",
    "        x = self.fc6(x)\n",
    "        return F.log_softmax(x, dim=1)"
   ]
  },
  {
   "cell_type": "code",
   "execution_count": 68,
   "metadata": {},
   "outputs": [],
   "source": [
    "net = Net().to(device)\n",
    "optimizer = torch.optim.Adam(net.parameters(), lr=learning_rate, amsgrad=True)\n",
    "criterion = nn.NLLLoss()\n",
    "accuracy = Accuracy(task=\"multiclass\", num_classes=7).to(device)\n",
    "\n",
    "train_loss_per_epoch = []\n",
    "test_loss_per_epoch = []\n",
    "test_accuracy_per_epoch = []"
   ]
  },
  {
   "cell_type": "code",
   "execution_count": 65,
   "metadata": {},
   "outputs": [],
   "source": [
    "# Set hyperparameters\n",
    "learning_rate = 0.05\n",
    "n_epochs = 200\n",
    "batch_size = 32"
   ]
  },
  {
   "attachments": {},
   "cell_type": "markdown",
   "metadata": {},
   "source": [
    "### Training Loop"
   ]
  },
  {
   "cell_type": "code",
   "execution_count": 69,
   "metadata": {},
   "outputs": [
    {
     "name": "stderr",
     "output_type": "stream",
     "text": [
      "Epoch 92 - Training: 100%|███████████████████████████████████| 14526/14526 [00:20<00:00, 720.11it/s]\n",
      "Epoch 92 - Testing: 100%|████████████████████████████████████████| 908/908 [00:01<00:00, 613.41it/s]\n"
     ]
    },
    {
     "name": "stdout",
     "output_type": "stream",
     "text": [
      "Epoch 92: Train loss = 0.1838, Test loss = 0.1971, Test accuracy = 92.19%\n"
     ]
    },
    {
     "name": "stderr",
     "output_type": "stream",
     "text": [
      "Epoch 93 - Training: 100%|███████████████████████████████████| 14526/14526 [00:19<00:00, 744.30it/s]\n",
      "Epoch 93 - Testing: 100%|████████████████████████████████████████| 908/908 [00:01<00:00, 598.49it/s]\n"
     ]
    },
    {
     "name": "stdout",
     "output_type": "stream",
     "text": [
      "Epoch 93: Train loss = 0.1889, Test loss = 0.2033, Test accuracy = 92.05%\n"
     ]
    },
    {
     "name": "stderr",
     "output_type": "stream",
     "text": [
      "Epoch 94 - Training: 100%|███████████████████████████████████| 14526/14526 [00:20<00:00, 722.07it/s]\n",
      "Epoch 94 - Testing: 100%|████████████████████████████████████████| 908/908 [00:01<00:00, 616.32it/s]\n"
     ]
    },
    {
     "name": "stdout",
     "output_type": "stream",
     "text": [
      "Epoch 94: Train loss = 0.1933, Test loss = 0.2089, Test accuracy = 91.58%\n"
     ]
    },
    {
     "name": "stderr",
     "output_type": "stream",
     "text": [
      "Epoch 95 - Training: 100%|███████████████████████████████████| 14526/14526 [00:20<00:00, 720.87it/s]\n",
      "Epoch 95 - Testing: 100%|████████████████████████████████████████| 908/908 [00:01<00:00, 599.20it/s]\n"
     ]
    },
    {
     "name": "stdout",
     "output_type": "stream",
     "text": [
      "Epoch 95: Train loss = 0.1913, Test loss = 0.2049, Test accuracy = 91.90%\n"
     ]
    },
    {
     "name": "stderr",
     "output_type": "stream",
     "text": [
      "Epoch 96 - Training: 100%|███████████████████████████████████| 14526/14526 [00:19<00:00, 733.04it/s]\n",
      "Epoch 96 - Testing: 100%|████████████████████████████████████████| 908/908 [00:01<00:00, 589.00it/s]\n"
     ]
    },
    {
     "name": "stdout",
     "output_type": "stream",
     "text": [
      "Epoch 96: Train loss = 0.1933, Test loss = 0.2076, Test accuracy = 91.50%\n"
     ]
    },
    {
     "name": "stderr",
     "output_type": "stream",
     "text": [
      "Epoch 97 - Training: 100%|███████████████████████████████████| 14526/14526 [00:20<00:00, 713.82it/s]\n",
      "Epoch 97 - Testing: 100%|████████████████████████████████████████| 908/908 [00:01<00:00, 613.93it/s]\n"
     ]
    },
    {
     "name": "stdout",
     "output_type": "stream",
     "text": [
      "Epoch 97: Train loss = 0.1892, Test loss = 0.2032, Test accuracy = 92.15%\n"
     ]
    },
    {
     "name": "stderr",
     "output_type": "stream",
     "text": [
      "Epoch 98 - Training: 100%|███████████████████████████████████| 14526/14526 [00:20<00:00, 726.17it/s]\n",
      "Epoch 98 - Testing: 100%|████████████████████████████████████████| 908/908 [00:01<00:00, 613.98it/s]\n"
     ]
    },
    {
     "name": "stdout",
     "output_type": "stream",
     "text": [
      "Epoch 98: Train loss = 0.1827, Test loss = 0.1977, Test accuracy = 92.13%\n"
     ]
    },
    {
     "name": "stderr",
     "output_type": "stream",
     "text": [
      "Epoch 99 - Training: 100%|███████████████████████████████████| 14526/14526 [00:20<00:00, 721.34it/s]\n",
      "Epoch 99 - Testing: 100%|████████████████████████████████████████| 908/908 [00:01<00:00, 598.77it/s]\n"
     ]
    },
    {
     "name": "stdout",
     "output_type": "stream",
     "text": [
      "Epoch 99: Train loss = 0.1838, Test loss = 0.1989, Test accuracy = 92.12%\n"
     ]
    },
    {
     "name": "stderr",
     "output_type": "stream",
     "text": [
      "Epoch 100 - Training: 100%|██████████████████████████████████| 14526/14526 [00:19<00:00, 736.82it/s]\n",
      "Epoch 100 - Testing: 100%|███████████████████████████████████████| 908/908 [00:01<00:00, 586.24it/s]\n"
     ]
    },
    {
     "name": "stdout",
     "output_type": "stream",
     "text": [
      "Epoch 100: Train loss = 0.1851, Test loss = 0.1985, Test accuracy = 92.17%\n"
     ]
    },
    {
     "name": "stderr",
     "output_type": "stream",
     "text": [
      "Epoch 101 - Training: 100%|██████████████████████████████████| 14526/14526 [00:20<00:00, 715.17it/s]\n",
      "Epoch 101 - Testing: 100%|███████████████████████████████████████| 908/908 [00:01<00:00, 553.02it/s]\n"
     ]
    },
    {
     "name": "stdout",
     "output_type": "stream",
     "text": [
      "Epoch 101: Train loss = 0.1836, Test loss = 0.1973, Test accuracy = 92.26%\n"
     ]
    },
    {
     "name": "stderr",
     "output_type": "stream",
     "text": [
      "Epoch 102 - Training: 100%|██████████████████████████████████| 14526/14526 [00:20<00:00, 715.80it/s]\n",
      "Epoch 102 - Testing: 100%|███████████████████████████████████████| 908/908 [00:01<00:00, 573.63it/s]\n"
     ]
    },
    {
     "name": "stdout",
     "output_type": "stream",
     "text": [
      "Epoch 102: Train loss = 0.1833, Test loss = 0.1977, Test accuracy = 92.22%\n"
     ]
    },
    {
     "name": "stderr",
     "output_type": "stream",
     "text": [
      "Epoch 103 - Training: 100%|██████████████████████████████████| 14526/14526 [00:19<00:00, 729.14it/s]\n",
      "Epoch 103 - Testing: 100%|███████████████████████████████████████| 908/908 [00:01<00:00, 623.51it/s]\n"
     ]
    },
    {
     "name": "stdout",
     "output_type": "stream",
     "text": [
      "Epoch 103: Train loss = 0.1816, Test loss = 0.1955, Test accuracy = 92.36%\n"
     ]
    },
    {
     "name": "stderr",
     "output_type": "stream",
     "text": [
      "Epoch 104 - Training: 100%|██████████████████████████████████| 14526/14526 [00:20<00:00, 714.30it/s]\n",
      "Epoch 104 - Testing: 100%|███████████████████████████████████████| 908/908 [00:01<00:00, 617.03it/s]\n"
     ]
    },
    {
     "name": "stdout",
     "output_type": "stream",
     "text": [
      "Epoch 104: Train loss = 0.1796, Test loss = 0.1934, Test accuracy = 92.39%\n"
     ]
    },
    {
     "name": "stderr",
     "output_type": "stream",
     "text": [
      "Epoch 105 - Training: 100%|██████████████████████████████████| 14526/14526 [00:20<00:00, 718.68it/s]\n",
      "Epoch 105 - Testing: 100%|███████████████████████████████████████| 908/908 [00:01<00:00, 609.72it/s]\n"
     ]
    },
    {
     "name": "stdout",
     "output_type": "stream",
     "text": [
      "Epoch 105: Train loss = 0.1877, Test loss = 0.2008, Test accuracy = 92.28%\n"
     ]
    },
    {
     "name": "stderr",
     "output_type": "stream",
     "text": [
      "Epoch 106 - Training: 100%|██████████████████████████████████| 14526/14526 [00:19<00:00, 726.75it/s]\n",
      "Epoch 106 - Testing: 100%|███████████████████████████████████████| 908/908 [00:01<00:00, 582.00it/s]\n"
     ]
    },
    {
     "name": "stdout",
     "output_type": "stream",
     "text": [
      "Epoch 106: Train loss = 0.1782, Test loss = 0.1937, Test accuracy = 92.32%\n"
     ]
    },
    {
     "name": "stderr",
     "output_type": "stream",
     "text": [
      "Epoch 107 - Training: 100%|██████████████████████████████████| 14526/14526 [00:19<00:00, 732.51it/s]\n",
      "Epoch 107 - Testing: 100%|███████████████████████████████████████| 908/908 [00:01<00:00, 600.36it/s]\n"
     ]
    },
    {
     "name": "stdout",
     "output_type": "stream",
     "text": [
      "Epoch 107: Train loss = 0.1817, Test loss = 0.1955, Test accuracy = 92.28%\n"
     ]
    },
    {
     "name": "stderr",
     "output_type": "stream",
     "text": [
      "Epoch 108 - Training: 100%|██████████████████████████████████| 14526/14526 [00:19<00:00, 746.27it/s]\n",
      "Epoch 108 - Testing: 100%|███████████████████████████████████████| 908/908 [00:01<00:00, 580.56it/s]\n"
     ]
    },
    {
     "name": "stdout",
     "output_type": "stream",
     "text": [
      "Epoch 108: Train loss = 0.1811, Test loss = 0.1957, Test accuracy = 92.35%\n"
     ]
    },
    {
     "name": "stderr",
     "output_type": "stream",
     "text": [
      "Epoch 109 - Training: 100%|██████████████████████████████████| 14526/14526 [00:19<00:00, 747.73it/s]\n",
      "Epoch 109 - Testing: 100%|███████████████████████████████████████| 908/908 [00:01<00:00, 645.92it/s]\n"
     ]
    },
    {
     "name": "stdout",
     "output_type": "stream",
     "text": [
      "Epoch 109: Train loss = 0.1894, Test loss = 0.2036, Test accuracy = 91.90%\n"
     ]
    },
    {
     "name": "stderr",
     "output_type": "stream",
     "text": [
      "Epoch 110 - Training: 100%|██████████████████████████████████| 14526/14526 [00:19<00:00, 744.65it/s]\n",
      "Epoch 110 - Testing: 100%|███████████████████████████████████████| 908/908 [00:01<00:00, 614.34it/s]\n"
     ]
    },
    {
     "name": "stdout",
     "output_type": "stream",
     "text": [
      "Epoch 110: Train loss = 0.1809, Test loss = 0.1943, Test accuracy = 92.26%\n"
     ]
    },
    {
     "name": "stderr",
     "output_type": "stream",
     "text": [
      "Epoch 111 - Training: 100%|██████████████████████████████████| 14526/14526 [00:20<00:00, 724.00it/s]\n",
      "Epoch 111 - Testing: 100%|███████████████████████████████████████| 908/908 [00:01<00:00, 579.68it/s]\n"
     ]
    },
    {
     "name": "stdout",
     "output_type": "stream",
     "text": [
      "Epoch 111: Train loss = 0.1831, Test loss = 0.1977, Test accuracy = 92.13%\n"
     ]
    },
    {
     "name": "stderr",
     "output_type": "stream",
     "text": [
      "Epoch 112 - Training: 100%|██████████████████████████████████| 14526/14526 [00:20<00:00, 724.90it/s]\n",
      "Epoch 112 - Testing: 100%|███████████████████████████████████████| 908/908 [00:01<00:00, 564.36it/s]\n"
     ]
    },
    {
     "name": "stdout",
     "output_type": "stream",
     "text": [
      "Epoch 112: Train loss = 0.1853, Test loss = 0.1997, Test accuracy = 92.18%\n"
     ]
    },
    {
     "name": "stderr",
     "output_type": "stream",
     "text": [
      "Epoch 113 - Training: 100%|██████████████████████████████████| 14526/14526 [00:20<00:00, 724.03it/s]\n",
      "Epoch 113 - Testing: 100%|███████████████████████████████████████| 908/908 [00:01<00:00, 593.17it/s]\n"
     ]
    },
    {
     "name": "stdout",
     "output_type": "stream",
     "text": [
      "Epoch 113: Train loss = 0.1810, Test loss = 0.1957, Test accuracy = 92.22%\n"
     ]
    },
    {
     "name": "stderr",
     "output_type": "stream",
     "text": [
      "Epoch 114 - Training: 100%|██████████████████████████████████| 14526/14526 [00:19<00:00, 745.25it/s]\n",
      "Epoch 114 - Testing: 100%|███████████████████████████████████████| 908/908 [00:01<00:00, 621.11it/s]\n"
     ]
    },
    {
     "name": "stdout",
     "output_type": "stream",
     "text": [
      "Epoch 114: Train loss = 0.1867, Test loss = 0.2025, Test accuracy = 91.95%\n"
     ]
    },
    {
     "name": "stderr",
     "output_type": "stream",
     "text": [
      "Epoch 115 - Training: 100%|██████████████████████████████████| 14526/14526 [00:20<00:00, 720.02it/s]\n",
      "Epoch 115 - Testing: 100%|███████████████████████████████████████| 908/908 [00:01<00:00, 623.83it/s]\n"
     ]
    },
    {
     "name": "stdout",
     "output_type": "stream",
     "text": [
      "Epoch 115: Train loss = 0.1776, Test loss = 0.1930, Test accuracy = 92.38%\n"
     ]
    },
    {
     "name": "stderr",
     "output_type": "stream",
     "text": [
      "Epoch 116 - Training: 100%|██████████████████████████████████| 14526/14526 [00:19<00:00, 728.37it/s]\n",
      "Epoch 116 - Testing: 100%|███████████████████████████████████████| 908/908 [00:01<00:00, 612.91it/s]\n"
     ]
    },
    {
     "name": "stdout",
     "output_type": "stream",
     "text": [
      "Epoch 116: Train loss = 0.1841, Test loss = 0.1991, Test accuracy = 92.20%\n"
     ]
    },
    {
     "name": "stderr",
     "output_type": "stream",
     "text": [
      "Epoch 117 - Training: 100%|██████████████████████████████████| 14526/14526 [00:19<00:00, 745.56it/s]\n",
      "Epoch 117 - Testing: 100%|███████████████████████████████████████| 908/908 [00:01<00:00, 609.89it/s]\n"
     ]
    },
    {
     "name": "stdout",
     "output_type": "stream",
     "text": [
      "Epoch 117: Train loss = 0.1746, Test loss = 0.1889, Test accuracy = 92.57%\n"
     ]
    },
    {
     "name": "stderr",
     "output_type": "stream",
     "text": [
      "Epoch 118 - Training: 100%|██████████████████████████████████| 14526/14526 [00:19<00:00, 731.54it/s]\n",
      "Epoch 118 - Testing: 100%|███████████████████████████████████████| 908/908 [00:01<00:00, 626.93it/s]\n"
     ]
    },
    {
     "name": "stdout",
     "output_type": "stream",
     "text": [
      "Epoch 118: Train loss = 0.1813, Test loss = 0.1955, Test accuracy = 92.30%\n"
     ]
    },
    {
     "name": "stderr",
     "output_type": "stream",
     "text": [
      "Epoch 119 - Training: 100%|██████████████████████████████████| 14526/14526 [00:19<00:00, 736.44it/s]\n",
      "Epoch 119 - Testing: 100%|███████████████████████████████████████| 908/908 [00:01<00:00, 587.75it/s]\n"
     ]
    },
    {
     "name": "stdout",
     "output_type": "stream",
     "text": [
      "Epoch 119: Train loss = 0.1800, Test loss = 0.1945, Test accuracy = 92.31%\n"
     ]
    },
    {
     "name": "stderr",
     "output_type": "stream",
     "text": [
      "Epoch 120 - Training: 100%|██████████████████████████████████| 14526/14526 [00:19<00:00, 744.99it/s]\n",
      "Epoch 120 - Testing: 100%|███████████████████████████████████████| 908/908 [00:01<00:00, 625.18it/s]\n"
     ]
    },
    {
     "name": "stdout",
     "output_type": "stream",
     "text": [
      "Epoch 120: Train loss = 0.1778, Test loss = 0.1929, Test accuracy = 92.39%\n"
     ]
    },
    {
     "name": "stderr",
     "output_type": "stream",
     "text": [
      "Epoch 121 - Training: 100%|██████████████████████████████████| 14526/14526 [00:19<00:00, 736.95it/s]\n",
      "Epoch 121 - Testing: 100%|███████████████████████████████████████| 908/908 [00:01<00:00, 608.75it/s]\n"
     ]
    },
    {
     "name": "stdout",
     "output_type": "stream",
     "text": [
      "Epoch 121: Train loss = 0.1886, Test loss = 0.2029, Test accuracy = 91.86%\n"
     ]
    },
    {
     "name": "stderr",
     "output_type": "stream",
     "text": [
      "Epoch 122 - Training: 100%|██████████████████████████████████| 14526/14526 [00:20<00:00, 721.84it/s]\n",
      "Epoch 122 - Testing: 100%|███████████████████████████████████████| 908/908 [00:01<00:00, 610.19it/s]\n"
     ]
    },
    {
     "name": "stdout",
     "output_type": "stream",
     "text": [
      "Epoch 122: Train loss = 0.1728, Test loss = 0.1874, Test accuracy = 92.56%\n"
     ]
    },
    {
     "name": "stderr",
     "output_type": "stream",
     "text": [
      "Epoch 123 - Training: 100%|██████████████████████████████████| 14526/14526 [00:19<00:00, 738.27it/s]\n",
      "Epoch 123 - Testing: 100%|███████████████████████████████████████| 908/908 [00:01<00:00, 619.99it/s]\n"
     ]
    },
    {
     "name": "stdout",
     "output_type": "stream",
     "text": [
      "Epoch 123: Train loss = 0.1864, Test loss = 0.2011, Test accuracy = 92.10%\n"
     ]
    },
    {
     "name": "stderr",
     "output_type": "stream",
     "text": [
      "Epoch 124 - Training: 100%|██████████████████████████████████| 14526/14526 [00:19<00:00, 729.08it/s]\n",
      "Epoch 124 - Testing: 100%|███████████████████████████████████████| 908/908 [00:01<00:00, 578.50it/s]\n"
     ]
    },
    {
     "name": "stdout",
     "output_type": "stream",
     "text": [
      "Epoch 124: Train loss = 0.1822, Test loss = 0.1964, Test accuracy = 92.05%\n"
     ]
    },
    {
     "name": "stderr",
     "output_type": "stream",
     "text": [
      "Epoch 125 - Training: 100%|██████████████████████████████████| 14526/14526 [00:19<00:00, 728.79it/s]\n",
      "Epoch 125 - Testing: 100%|███████████████████████████████████████| 908/908 [00:01<00:00, 600.25it/s]\n"
     ]
    },
    {
     "name": "stdout",
     "output_type": "stream",
     "text": [
      "Epoch 125: Train loss = 0.1831, Test loss = 0.1976, Test accuracy = 92.30%\n"
     ]
    },
    {
     "name": "stderr",
     "output_type": "stream",
     "text": [
      "Epoch 126 - Training: 100%|██████████████████████████████████| 14526/14526 [00:19<00:00, 751.27it/s]\n",
      "Epoch 126 - Testing: 100%|███████████████████████████████████████| 908/908 [00:01<00:00, 607.21it/s]\n"
     ]
    },
    {
     "name": "stdout",
     "output_type": "stream",
     "text": [
      "Epoch 126: Train loss = 0.1748, Test loss = 0.1904, Test accuracy = 92.50%\n"
     ]
    },
    {
     "name": "stderr",
     "output_type": "stream",
     "text": [
      "Epoch 127 - Training: 100%|██████████████████████████████████| 14526/14526 [00:19<00:00, 747.78it/s]\n",
      "Epoch 127 - Testing: 100%|███████████████████████████████████████| 908/908 [00:01<00:00, 566.89it/s]\n"
     ]
    },
    {
     "name": "stdout",
     "output_type": "stream",
     "text": [
      "Epoch 127: Train loss = 0.1733, Test loss = 0.1874, Test accuracy = 92.70%\n"
     ]
    },
    {
     "name": "stderr",
     "output_type": "stream",
     "text": [
      "Epoch 128 - Training: 100%|██████████████████████████████████| 14526/14526 [00:19<00:00, 736.42it/s]\n",
      "Epoch 128 - Testing: 100%|███████████████████████████████████████| 908/908 [00:01<00:00, 606.17it/s]\n"
     ]
    },
    {
     "name": "stdout",
     "output_type": "stream",
     "text": [
      "Epoch 128: Train loss = 0.1808, Test loss = 0.1943, Test accuracy = 92.47%\n"
     ]
    },
    {
     "name": "stderr",
     "output_type": "stream",
     "text": [
      "Epoch 129 - Training: 100%|██████████████████████████████████| 14526/14526 [00:19<00:00, 750.06it/s]\n",
      "Epoch 129 - Testing: 100%|███████████████████████████████████████| 908/908 [00:01<00:00, 565.77it/s]\n"
     ]
    },
    {
     "name": "stdout",
     "output_type": "stream",
     "text": [
      "Epoch 129: Train loss = 0.1769, Test loss = 0.1910, Test accuracy = 92.37%\n"
     ]
    },
    {
     "name": "stderr",
     "output_type": "stream",
     "text": [
      "Epoch 130 - Training: 100%|██████████████████████████████████| 14526/14526 [00:19<00:00, 728.71it/s]\n",
      "Epoch 130 - Testing: 100%|███████████████████████████████████████| 908/908 [00:01<00:00, 608.34it/s]\n"
     ]
    },
    {
     "name": "stdout",
     "output_type": "stream",
     "text": [
      "Epoch 130: Train loss = 0.1800, Test loss = 0.1953, Test accuracy = 92.21%\n"
     ]
    },
    {
     "name": "stderr",
     "output_type": "stream",
     "text": [
      "Epoch 131 - Training: 100%|██████████████████████████████████| 14526/14526 [00:19<00:00, 728.93it/s]\n",
      "Epoch 131 - Testing: 100%|███████████████████████████████████████| 908/908 [00:01<00:00, 622.38it/s]\n"
     ]
    },
    {
     "name": "stdout",
     "output_type": "stream",
     "text": [
      "Epoch 131: Train loss = 0.1748, Test loss = 0.1891, Test accuracy = 92.60%\n"
     ]
    },
    {
     "name": "stderr",
     "output_type": "stream",
     "text": [
      "Epoch 132 - Training: 100%|██████████████████████████████████| 14526/14526 [00:19<00:00, 741.14it/s]\n",
      "Epoch 132 - Testing: 100%|███████████████████████████████████████| 908/908 [00:01<00:00, 593.86it/s]\n"
     ]
    },
    {
     "name": "stdout",
     "output_type": "stream",
     "text": [
      "Epoch 132: Train loss = 0.1738, Test loss = 0.1889, Test accuracy = 92.60%\n"
     ]
    },
    {
     "name": "stderr",
     "output_type": "stream",
     "text": [
      "Epoch 133 - Training: 100%|██████████████████████████████████| 14526/14526 [00:19<00:00, 741.39it/s]\n",
      "Epoch 133 - Testing: 100%|███████████████████████████████████████| 908/908 [00:01<00:00, 609.00it/s]\n"
     ]
    },
    {
     "name": "stdout",
     "output_type": "stream",
     "text": [
      "Epoch 133: Train loss = 0.1751, Test loss = 0.1896, Test accuracy = 92.54%\n"
     ]
    },
    {
     "name": "stderr",
     "output_type": "stream",
     "text": [
      "Epoch 134 - Training: 100%|██████████████████████████████████| 14526/14526 [00:20<00:00, 723.86it/s]\n",
      "Epoch 134 - Testing: 100%|███████████████████████████████████████| 908/908 [00:01<00:00, 604.70it/s]\n"
     ]
    },
    {
     "name": "stdout",
     "output_type": "stream",
     "text": [
      "Epoch 134: Train loss = 0.1759, Test loss = 0.1912, Test accuracy = 92.53%\n"
     ]
    },
    {
     "name": "stderr",
     "output_type": "stream",
     "text": [
      "Epoch 135 - Training: 100%|██████████████████████████████████| 14526/14526 [00:19<00:00, 744.69it/s]\n",
      "Epoch 135 - Testing: 100%|███████████████████████████████████████| 908/908 [00:01<00:00, 573.69it/s]\n"
     ]
    },
    {
     "name": "stdout",
     "output_type": "stream",
     "text": [
      "Epoch 135: Train loss = 0.1761, Test loss = 0.1913, Test accuracy = 92.53%\n"
     ]
    },
    {
     "name": "stderr",
     "output_type": "stream",
     "text": [
      "Epoch 136 - Training: 100%|██████████████████████████████████| 14526/14526 [00:19<00:00, 732.22it/s]\n",
      "Epoch 136 - Testing: 100%|███████████████████████████████████████| 908/908 [00:01<00:00, 617.84it/s]\n"
     ]
    },
    {
     "name": "stdout",
     "output_type": "stream",
     "text": [
      "Epoch 136: Train loss = 0.1796, Test loss = 0.1939, Test accuracy = 92.26%\n"
     ]
    },
    {
     "name": "stderr",
     "output_type": "stream",
     "text": [
      "Epoch 137 - Training: 100%|██████████████████████████████████| 14526/14526 [00:19<00:00, 750.10it/s]\n",
      "Epoch 137 - Testing: 100%|███████████████████████████████████████| 908/908 [00:01<00:00, 615.92it/s]\n"
     ]
    },
    {
     "name": "stdout",
     "output_type": "stream",
     "text": [
      "Epoch 137: Train loss = 0.1776, Test loss = 0.1935, Test accuracy = 92.34%\n"
     ]
    },
    {
     "name": "stderr",
     "output_type": "stream",
     "text": [
      "Epoch 138 - Training: 100%|██████████████████████████████████| 14526/14526 [00:19<00:00, 733.01it/s]\n",
      "Epoch 138 - Testing: 100%|███████████████████████████████████████| 908/908 [00:01<00:00, 586.07it/s]\n"
     ]
    },
    {
     "name": "stdout",
     "output_type": "stream",
     "text": [
      "Epoch 138: Train loss = 0.1793, Test loss = 0.1935, Test accuracy = 92.33%\n"
     ]
    },
    {
     "name": "stderr",
     "output_type": "stream",
     "text": [
      "Epoch 139 - Training: 100%|██████████████████████████████████| 14526/14526 [00:20<00:00, 721.56it/s]\n",
      "Epoch 139 - Testing: 100%|███████████████████████████████████████| 908/908 [00:01<00:00, 583.16it/s]\n"
     ]
    },
    {
     "name": "stdout",
     "output_type": "stream",
     "text": [
      "Epoch 139: Train loss = 0.1754, Test loss = 0.1906, Test accuracy = 92.56%\n"
     ]
    },
    {
     "name": "stderr",
     "output_type": "stream",
     "text": [
      "Epoch 140 - Training: 100%|██████████████████████████████████| 14526/14526 [00:19<00:00, 740.06it/s]\n",
      "Epoch 140 - Testing: 100%|███████████████████████████████████████| 908/908 [00:01<00:00, 588.29it/s]\n"
     ]
    },
    {
     "name": "stdout",
     "output_type": "stream",
     "text": [
      "Epoch 140: Train loss = 0.1734, Test loss = 0.1890, Test accuracy = 92.51%\n"
     ]
    },
    {
     "name": "stderr",
     "output_type": "stream",
     "text": [
      "Epoch 141 - Training: 100%|██████████████████████████████████| 14526/14526 [00:19<00:00, 739.00it/s]\n",
      "Epoch 141 - Testing: 100%|███████████████████████████████████████| 908/908 [00:01<00:00, 613.32it/s]\n"
     ]
    },
    {
     "name": "stdout",
     "output_type": "stream",
     "text": [
      "Epoch 141: Train loss = 0.1707, Test loss = 0.1860, Test accuracy = 92.55%\n"
     ]
    },
    {
     "name": "stderr",
     "output_type": "stream",
     "text": [
      "Epoch 142 - Training: 100%|██████████████████████████████████| 14526/14526 [00:19<00:00, 740.30it/s]\n",
      "Epoch 142 - Testing: 100%|███████████████████████████████████████| 908/908 [00:01<00:00, 606.51it/s]\n"
     ]
    },
    {
     "name": "stdout",
     "output_type": "stream",
     "text": [
      "Epoch 142: Train loss = 0.1779, Test loss = 0.1928, Test accuracy = 92.53%\n"
     ]
    },
    {
     "name": "stderr",
     "output_type": "stream",
     "text": [
      "Epoch 143 - Training: 100%|██████████████████████████████████| 14526/14526 [00:19<00:00, 756.85it/s]\n",
      "Epoch 143 - Testing: 100%|███████████████████████████████████████| 908/908 [00:01<00:00, 572.87it/s]\n"
     ]
    },
    {
     "name": "stdout",
     "output_type": "stream",
     "text": [
      "Epoch 143: Train loss = 0.1687, Test loss = 0.1835, Test accuracy = 92.76%\n"
     ]
    },
    {
     "name": "stderr",
     "output_type": "stream",
     "text": [
      "Epoch 144 - Training: 100%|██████████████████████████████████| 14526/14526 [00:19<00:00, 735.29it/s]\n",
      "Epoch 144 - Testing: 100%|███████████████████████████████████████| 908/908 [00:01<00:00, 642.67it/s]\n"
     ]
    },
    {
     "name": "stdout",
     "output_type": "stream",
     "text": [
      "Epoch 144: Train loss = 0.1720, Test loss = 0.1873, Test accuracy = 92.76%\n"
     ]
    },
    {
     "name": "stderr",
     "output_type": "stream",
     "text": [
      "Epoch 145 - Training: 100%|██████████████████████████████████| 14526/14526 [00:19<00:00, 742.64it/s]\n",
      "Epoch 145 - Testing: 100%|███████████████████████████████████████| 908/908 [00:01<00:00, 643.37it/s]\n"
     ]
    },
    {
     "name": "stdout",
     "output_type": "stream",
     "text": [
      "Epoch 145: Train loss = 0.1823, Test loss = 0.1968, Test accuracy = 92.20%\n"
     ]
    },
    {
     "name": "stderr",
     "output_type": "stream",
     "text": [
      "Epoch 146 - Training: 100%|██████████████████████████████████| 14526/14526 [00:19<00:00, 746.92it/s]\n",
      "Epoch 146 - Testing: 100%|███████████████████████████████████████| 908/908 [00:01<00:00, 556.96it/s]\n"
     ]
    },
    {
     "name": "stdout",
     "output_type": "stream",
     "text": [
      "Epoch 146: Train loss = 0.1753, Test loss = 0.1909, Test accuracy = 92.64%\n"
     ]
    },
    {
     "name": "stderr",
     "output_type": "stream",
     "text": [
      "Epoch 147 - Training: 100%|██████████████████████████████████| 14526/14526 [00:19<00:00, 754.43it/s]\n",
      "Epoch 147 - Testing: 100%|███████████████████████████████████████| 908/908 [00:01<00:00, 617.36it/s]\n"
     ]
    },
    {
     "name": "stdout",
     "output_type": "stream",
     "text": [
      "Epoch 147: Train loss = 0.1751, Test loss = 0.1899, Test accuracy = 92.55%\n"
     ]
    },
    {
     "name": "stderr",
     "output_type": "stream",
     "text": [
      "Epoch 148 - Training: 100%|██████████████████████████████████| 14526/14526 [00:19<00:00, 732.95it/s]\n",
      "Epoch 148 - Testing: 100%|███████████████████████████████████████| 908/908 [00:01<00:00, 635.88it/s]\n"
     ]
    },
    {
     "name": "stdout",
     "output_type": "stream",
     "text": [
      "Epoch 148: Train loss = 0.1843, Test loss = 0.1997, Test accuracy = 92.22%\n"
     ]
    },
    {
     "name": "stderr",
     "output_type": "stream",
     "text": [
      "Epoch 149 - Training: 100%|██████████████████████████████████| 14526/14526 [00:19<00:00, 730.01it/s]\n",
      "Epoch 149 - Testing: 100%|███████████████████████████████████████| 908/908 [00:01<00:00, 640.72it/s]\n"
     ]
    },
    {
     "name": "stdout",
     "output_type": "stream",
     "text": [
      "Epoch 149: Train loss = 0.1729, Test loss = 0.1879, Test accuracy = 92.58%\n"
     ]
    },
    {
     "name": "stderr",
     "output_type": "stream",
     "text": [
      "Epoch 150 - Training: 100%|██████████████████████████████████| 14526/14526 [00:19<00:00, 740.32it/s]\n",
      "Epoch 150 - Testing: 100%|███████████████████████████████████████| 908/908 [00:01<00:00, 627.49it/s]\n"
     ]
    },
    {
     "name": "stdout",
     "output_type": "stream",
     "text": [
      "Epoch 150: Train loss = 0.1740, Test loss = 0.1896, Test accuracy = 92.53%\n"
     ]
    },
    {
     "name": "stderr",
     "output_type": "stream",
     "text": [
      "Epoch 151 - Training: 100%|██████████████████████████████████| 14526/14526 [00:19<00:00, 745.34it/s]\n",
      "Epoch 151 - Testing: 100%|███████████████████████████████████████| 908/908 [00:01<00:00, 578.05it/s]\n"
     ]
    },
    {
     "name": "stdout",
     "output_type": "stream",
     "text": [
      "Epoch 151: Train loss = 0.1766, Test loss = 0.1920, Test accuracy = 92.46%\n"
     ]
    },
    {
     "name": "stderr",
     "output_type": "stream",
     "text": [
      "Epoch 152 - Training: 100%|██████████████████████████████████| 14526/14526 [00:19<00:00, 729.09it/s]\n",
      "Epoch 152 - Testing: 100%|███████████████████████████████████████| 908/908 [00:01<00:00, 540.77it/s]\n"
     ]
    },
    {
     "name": "stdout",
     "output_type": "stream",
     "text": [
      "Epoch 152: Train loss = 0.1747, Test loss = 0.1905, Test accuracy = 92.42%\n"
     ]
    },
    {
     "name": "stderr",
     "output_type": "stream",
     "text": [
      "Epoch 153 - Training: 100%|██████████████████████████████████| 14526/14526 [00:19<00:00, 739.49it/s]\n",
      "Epoch 153 - Testing: 100%|███████████████████████████████████████| 908/908 [00:01<00:00, 556.66it/s]\n"
     ]
    },
    {
     "name": "stdout",
     "output_type": "stream",
     "text": [
      "Epoch 153: Train loss = 0.1734, Test loss = 0.1876, Test accuracy = 92.55%\n"
     ]
    },
    {
     "name": "stderr",
     "output_type": "stream",
     "text": [
      "Epoch 154 - Training: 100%|██████████████████████████████████| 14526/14526 [00:19<00:00, 754.38it/s]\n",
      "Epoch 154 - Testing: 100%|███████████████████████████████████████| 908/908 [00:01<00:00, 520.06it/s]\n"
     ]
    },
    {
     "name": "stdout",
     "output_type": "stream",
     "text": [
      "Epoch 154: Train loss = 0.1712, Test loss = 0.1859, Test accuracy = 92.70%\n"
     ]
    },
    {
     "name": "stderr",
     "output_type": "stream",
     "text": [
      "Epoch 155 - Training: 100%|██████████████████████████████████| 14526/14526 [00:19<00:00, 733.96it/s]\n",
      "Epoch 155 - Testing: 100%|███████████████████████████████████████| 908/908 [00:01<00:00, 585.06it/s]\n"
     ]
    },
    {
     "name": "stdout",
     "output_type": "stream",
     "text": [
      "Epoch 155: Train loss = 0.1789, Test loss = 0.1941, Test accuracy = 92.48%\n"
     ]
    },
    {
     "name": "stderr",
     "output_type": "stream",
     "text": [
      "Epoch 156 - Training: 100%|██████████████████████████████████| 14526/14526 [00:19<00:00, 744.09it/s]\n",
      "Epoch 156 - Testing: 100%|███████████████████████████████████████| 908/908 [00:01<00:00, 580.40it/s]\n"
     ]
    },
    {
     "name": "stdout",
     "output_type": "stream",
     "text": [
      "Epoch 156: Train loss = 0.1752, Test loss = 0.1900, Test accuracy = 92.66%\n"
     ]
    },
    {
     "name": "stderr",
     "output_type": "stream",
     "text": [
      "Epoch 157 - Training: 100%|██████████████████████████████████| 14526/14526 [00:19<00:00, 749.43it/s]\n",
      "Epoch 157 - Testing: 100%|███████████████████████████████████████| 908/908 [00:01<00:00, 577.71it/s]\n"
     ]
    },
    {
     "name": "stdout",
     "output_type": "stream",
     "text": [
      "Epoch 157: Train loss = 0.1735, Test loss = 0.1903, Test accuracy = 92.59%\n"
     ]
    },
    {
     "name": "stderr",
     "output_type": "stream",
     "text": [
      "Epoch 158 - Training: 100%|██████████████████████████████████| 14526/14526 [00:19<00:00, 727.52it/s]\n",
      "Epoch 158 - Testing: 100%|███████████████████████████████████████| 908/908 [00:01<00:00, 580.21it/s]\n"
     ]
    },
    {
     "name": "stdout",
     "output_type": "stream",
     "text": [
      "Epoch 158: Train loss = 0.1720, Test loss = 0.1876, Test accuracy = 92.73%\n"
     ]
    },
    {
     "name": "stderr",
     "output_type": "stream",
     "text": [
      "Epoch 159 - Training: 100%|██████████████████████████████████| 14526/14526 [00:19<00:00, 742.30it/s]\n",
      "Epoch 159 - Testing: 100%|███████████████████████████████████████| 908/908 [00:01<00:00, 554.31it/s]\n"
     ]
    },
    {
     "name": "stdout",
     "output_type": "stream",
     "text": [
      "Epoch 159: Train loss = 0.1781, Test loss = 0.1934, Test accuracy = 92.34%\n"
     ]
    },
    {
     "name": "stderr",
     "output_type": "stream",
     "text": [
      "Epoch 160 - Training: 100%|██████████████████████████████████| 14526/14526 [00:19<00:00, 753.62it/s]\n",
      "Epoch 160 - Testing: 100%|███████████████████████████████████████| 908/908 [00:01<00:00, 578.81it/s]\n"
     ]
    },
    {
     "name": "stdout",
     "output_type": "stream",
     "text": [
      "Epoch 160: Train loss = 0.1737, Test loss = 0.1895, Test accuracy = 92.32%\n"
     ]
    },
    {
     "name": "stderr",
     "output_type": "stream",
     "text": [
      "Epoch 161 - Training: 100%|██████████████████████████████████| 14526/14526 [00:19<00:00, 738.85it/s]\n",
      "Epoch 161 - Testing: 100%|███████████████████████████████████████| 908/908 [00:01<00:00, 560.80it/s]\n"
     ]
    },
    {
     "name": "stdout",
     "output_type": "stream",
     "text": [
      "Epoch 161: Train loss = 0.1655, Test loss = 0.1813, Test accuracy = 92.78%\n"
     ]
    },
    {
     "name": "stderr",
     "output_type": "stream",
     "text": [
      "Epoch 162 - Training: 100%|██████████████████████████████████| 14526/14526 [00:19<00:00, 753.05it/s]\n",
      "Epoch 162 - Testing: 100%|███████████████████████████████████████| 908/908 [00:01<00:00, 544.91it/s]\n"
     ]
    },
    {
     "name": "stdout",
     "output_type": "stream",
     "text": [
      "Epoch 162: Train loss = 0.1716, Test loss = 0.1866, Test accuracy = 92.85%\n"
     ]
    },
    {
     "name": "stderr",
     "output_type": "stream",
     "text": [
      "Epoch 163 - Training: 100%|██████████████████████████████████| 14526/14526 [00:20<00:00, 725.38it/s]\n",
      "Epoch 163 - Testing: 100%|███████████████████████████████████████| 908/908 [00:01<00:00, 573.48it/s]\n"
     ]
    },
    {
     "name": "stdout",
     "output_type": "stream",
     "text": [
      "Epoch 163: Train loss = 0.1691, Test loss = 0.1845, Test accuracy = 92.89%\n"
     ]
    },
    {
     "name": "stderr",
     "output_type": "stream",
     "text": [
      "Epoch 164 - Training: 100%|██████████████████████████████████| 14526/14526 [00:19<00:00, 731.81it/s]\n",
      "Epoch 164 - Testing: 100%|███████████████████████████████████████| 908/908 [00:01<00:00, 571.41it/s]\n"
     ]
    },
    {
     "name": "stdout",
     "output_type": "stream",
     "text": [
      "Epoch 164: Train loss = 0.1757, Test loss = 0.1909, Test accuracy = 92.55%\n"
     ]
    },
    {
     "name": "stderr",
     "output_type": "stream",
     "text": [
      "Epoch 165 - Training: 100%|██████████████████████████████████| 14526/14526 [00:19<00:00, 741.11it/s]\n",
      "Epoch 165 - Testing: 100%|███████████████████████████████████████| 908/908 [00:01<00:00, 599.49it/s]\n"
     ]
    },
    {
     "name": "stdout",
     "output_type": "stream",
     "text": [
      "Epoch 165: Train loss = 0.1724, Test loss = 0.1877, Test accuracy = 92.74%\n"
     ]
    },
    {
     "name": "stderr",
     "output_type": "stream",
     "text": [
      "Epoch 166 - Training: 100%|██████████████████████████████████| 14526/14526 [00:19<00:00, 739.16it/s]\n",
      "Epoch 166 - Testing: 100%|███████████████████████████████████████| 908/908 [00:01<00:00, 579.25it/s]\n"
     ]
    },
    {
     "name": "stdout",
     "output_type": "stream",
     "text": [
      "Epoch 166: Train loss = 0.1791, Test loss = 0.1948, Test accuracy = 92.02%\n"
     ]
    },
    {
     "name": "stderr",
     "output_type": "stream",
     "text": [
      "Epoch 167 - Training: 100%|██████████████████████████████████| 14526/14526 [00:19<00:00, 753.44it/s]\n",
      "Epoch 167 - Testing: 100%|███████████████████████████████████████| 908/908 [00:01<00:00, 562.88it/s]\n"
     ]
    },
    {
     "name": "stdout",
     "output_type": "stream",
     "text": [
      "Epoch 167: Train loss = 0.1694, Test loss = 0.1848, Test accuracy = 92.72%\n"
     ]
    },
    {
     "name": "stderr",
     "output_type": "stream",
     "text": [
      "Epoch 168 - Training: 100%|██████████████████████████████████| 14526/14526 [00:19<00:00, 732.02it/s]\n",
      "Epoch 168 - Testing: 100%|███████████████████████████████████████| 908/908 [00:01<00:00, 585.95it/s]\n"
     ]
    },
    {
     "name": "stdout",
     "output_type": "stream",
     "text": [
      "Epoch 168: Train loss = 0.1703, Test loss = 0.1887, Test accuracy = 92.67%\n"
     ]
    },
    {
     "name": "stderr",
     "output_type": "stream",
     "text": [
      "Epoch 169 - Training: 100%|██████████████████████████████████| 14526/14526 [00:19<00:00, 736.43it/s]\n",
      "Epoch 169 - Testing: 100%|███████████████████████████████████████| 908/908 [00:01<00:00, 652.13it/s]\n"
     ]
    },
    {
     "name": "stdout",
     "output_type": "stream",
     "text": [
      "Epoch 169: Train loss = 0.1744, Test loss = 0.1899, Test accuracy = 92.47%\n"
     ]
    },
    {
     "name": "stderr",
     "output_type": "stream",
     "text": [
      "Epoch 170 - Training: 100%|██████████████████████████████████| 14526/14526 [00:19<00:00, 745.42it/s]\n",
      "Epoch 170 - Testing: 100%|███████████████████████████████████████| 908/908 [00:01<00:00, 626.89it/s]\n"
     ]
    },
    {
     "name": "stdout",
     "output_type": "stream",
     "text": [
      "Epoch 170: Train loss = 0.1792, Test loss = 0.1949, Test accuracy = 92.23%\n"
     ]
    },
    {
     "name": "stderr",
     "output_type": "stream",
     "text": [
      "Epoch 171 - Training: 100%|██████████████████████████████████| 14526/14526 [00:19<00:00, 726.87it/s]\n",
      "Epoch 171 - Testing: 100%|███████████████████████████████████████| 908/908 [00:01<00:00, 616.35it/s]\n"
     ]
    },
    {
     "name": "stdout",
     "output_type": "stream",
     "text": [
      "Epoch 171: Train loss = 0.1696, Test loss = 0.1855, Test accuracy = 92.74%\n"
     ]
    },
    {
     "name": "stderr",
     "output_type": "stream",
     "text": [
      "Epoch 172 - Training: 100%|██████████████████████████████████| 14526/14526 [00:19<00:00, 739.73it/s]\n",
      "Epoch 172 - Testing: 100%|███████████████████████████████████████| 908/908 [00:01<00:00, 607.88it/s]\n"
     ]
    },
    {
     "name": "stdout",
     "output_type": "stream",
     "text": [
      "Epoch 172: Train loss = 0.1760, Test loss = 0.1923, Test accuracy = 92.32%\n"
     ]
    },
    {
     "name": "stderr",
     "output_type": "stream",
     "text": [
      "Epoch 173 - Training: 100%|██████████████████████████████████| 14526/14526 [00:19<00:00, 736.30it/s]\n",
      "Epoch 173 - Testing: 100%|███████████████████████████████████████| 908/908 [00:01<00:00, 591.33it/s]\n"
     ]
    },
    {
     "name": "stdout",
     "output_type": "stream",
     "text": [
      "Epoch 173: Train loss = 0.1690, Test loss = 0.1850, Test accuracy = 92.67%\n"
     ]
    },
    {
     "name": "stderr",
     "output_type": "stream",
     "text": [
      "Epoch 174 - Training: 100%|██████████████████████████████████| 14526/14526 [00:19<00:00, 739.07it/s]\n",
      "Epoch 174 - Testing: 100%|███████████████████████████████████████| 908/908 [00:01<00:00, 615.36it/s]\n"
     ]
    },
    {
     "name": "stdout",
     "output_type": "stream",
     "text": [
      "Epoch 174: Train loss = 0.1770, Test loss = 0.1930, Test accuracy = 92.59%\n"
     ]
    },
    {
     "name": "stderr",
     "output_type": "stream",
     "text": [
      "Epoch 175 - Training: 100%|██████████████████████████████████| 14526/14526 [00:19<00:00, 732.56it/s]\n",
      "Epoch 175 - Testing: 100%|███████████████████████████████████████| 908/908 [00:01<00:00, 604.36it/s]\n"
     ]
    },
    {
     "name": "stdout",
     "output_type": "stream",
     "text": [
      "Epoch 175: Train loss = 0.1717, Test loss = 0.1873, Test accuracy = 92.55%\n"
     ]
    },
    {
     "name": "stderr",
     "output_type": "stream",
     "text": [
      "Epoch 176 - Training: 100%|██████████████████████████████████| 14526/14526 [00:19<00:00, 737.32it/s]\n",
      "Epoch 176 - Testing: 100%|███████████████████████████████████████| 908/908 [00:01<00:00, 584.47it/s]\n"
     ]
    },
    {
     "name": "stdout",
     "output_type": "stream",
     "text": [
      "Epoch 176: Train loss = 0.1686, Test loss = 0.1844, Test accuracy = 92.71%\n"
     ]
    },
    {
     "name": "stderr",
     "output_type": "stream",
     "text": [
      "Epoch 177 - Training: 100%|██████████████████████████████████| 14526/14526 [00:19<00:00, 738.11it/s]\n",
      "Epoch 177 - Testing: 100%|███████████████████████████████████████| 908/908 [00:01<00:00, 615.35it/s]\n"
     ]
    },
    {
     "name": "stdout",
     "output_type": "stream",
     "text": [
      "Epoch 177: Train loss = 0.1694, Test loss = 0.1853, Test accuracy = 92.61%\n"
     ]
    },
    {
     "name": "stderr",
     "output_type": "stream",
     "text": [
      "Epoch 178 - Training: 100%|██████████████████████████████████| 14526/14526 [00:19<00:00, 739.56it/s]\n",
      "Epoch 178 - Testing: 100%|███████████████████████████████████████| 908/908 [00:01<00:00, 621.54it/s]\n"
     ]
    },
    {
     "name": "stdout",
     "output_type": "stream",
     "text": [
      "Epoch 178: Train loss = 0.1695, Test loss = 0.1852, Test accuracy = 92.72%\n"
     ]
    },
    {
     "name": "stderr",
     "output_type": "stream",
     "text": [
      "Epoch 179 - Training: 100%|██████████████████████████████████| 14526/14526 [00:19<00:00, 731.60it/s]\n",
      "Epoch 179 - Testing: 100%|███████████████████████████████████████| 908/908 [00:01<00:00, 629.82it/s]\n"
     ]
    },
    {
     "name": "stdout",
     "output_type": "stream",
     "text": [
      "Epoch 179: Train loss = 0.1761, Test loss = 0.1923, Test accuracy = 92.40%\n"
     ]
    },
    {
     "name": "stderr",
     "output_type": "stream",
     "text": [
      "Epoch 180 - Training: 100%|██████████████████████████████████| 14526/14526 [00:19<00:00, 749.44it/s]\n",
      "Epoch 180 - Testing: 100%|███████████████████████████████████████| 908/908 [00:01<00:00, 579.42it/s]\n"
     ]
    },
    {
     "name": "stdout",
     "output_type": "stream",
     "text": [
      "Epoch 180: Train loss = 0.1749, Test loss = 0.1907, Test accuracy = 92.51%\n"
     ]
    },
    {
     "name": "stderr",
     "output_type": "stream",
     "text": [
      "Epoch 181 - Training: 100%|██████████████████████████████████| 14526/14526 [00:19<00:00, 730.12it/s]\n",
      "Epoch 181 - Testing: 100%|███████████████████████████████████████| 908/908 [00:01<00:00, 566.37it/s]\n"
     ]
    },
    {
     "name": "stdout",
     "output_type": "stream",
     "text": [
      "Epoch 181: Train loss = 0.1692, Test loss = 0.1846, Test accuracy = 92.87%\n"
     ]
    },
    {
     "name": "stderr",
     "output_type": "stream",
     "text": [
      "Epoch 182 - Training: 100%|██████████████████████████████████| 14526/14526 [00:19<00:00, 730.48it/s]\n",
      "Epoch 182 - Testing: 100%|███████████████████████████████████████| 908/908 [00:01<00:00, 581.42it/s]\n"
     ]
    },
    {
     "name": "stdout",
     "output_type": "stream",
     "text": [
      "Epoch 182: Train loss = 0.1720, Test loss = 0.1873, Test accuracy = 92.60%\n"
     ]
    },
    {
     "name": "stderr",
     "output_type": "stream",
     "text": [
      "Epoch 183 - Training: 100%|██████████████████████████████████| 14526/14526 [00:19<00:00, 737.98it/s]\n",
      "Epoch 183 - Testing: 100%|███████████████████████████████████████| 908/908 [00:01<00:00, 620.98it/s]\n"
     ]
    },
    {
     "name": "stdout",
     "output_type": "stream",
     "text": [
      "Epoch 183: Train loss = 0.1681, Test loss = 0.1825, Test accuracy = 92.80%\n"
     ]
    },
    {
     "name": "stderr",
     "output_type": "stream",
     "text": [
      "Epoch 184 - Training: 100%|██████████████████████████████████| 14526/14526 [00:19<00:00, 743.61it/s]\n",
      "Epoch 184 - Testing: 100%|███████████████████████████████████████| 908/908 [00:01<00:00, 608.77it/s]\n"
     ]
    },
    {
     "name": "stdout",
     "output_type": "stream",
     "text": [
      "Epoch 184: Train loss = 0.1732, Test loss = 0.1885, Test accuracy = 92.66%\n"
     ]
    },
    {
     "name": "stderr",
     "output_type": "stream",
     "text": [
      "Epoch 185 - Training: 100%|██████████████████████████████████| 14526/14526 [00:19<00:00, 726.86it/s]\n",
      "Epoch 185 - Testing: 100%|███████████████████████████████████████| 908/908 [00:01<00:00, 588.28it/s]\n"
     ]
    },
    {
     "name": "stdout",
     "output_type": "stream",
     "text": [
      "Epoch 185: Train loss = 0.1698, Test loss = 0.1848, Test accuracy = 92.78%\n"
     ]
    },
    {
     "name": "stderr",
     "output_type": "stream",
     "text": [
      "Epoch 186 - Training: 100%|██████████████████████████████████| 14526/14526 [00:19<00:00, 728.54it/s]\n",
      "Epoch 186 - Testing: 100%|███████████████████████████████████████| 908/908 [00:01<00:00, 607.66it/s]\n"
     ]
    },
    {
     "name": "stdout",
     "output_type": "stream",
     "text": [
      "Epoch 186: Train loss = 0.1686, Test loss = 0.1841, Test accuracy = 92.74%\n"
     ]
    },
    {
     "name": "stderr",
     "output_type": "stream",
     "text": [
      "Epoch 187 - Training: 100%|██████████████████████████████████| 14526/14526 [00:19<00:00, 748.78it/s]\n",
      "Epoch 187 - Testing: 100%|███████████████████████████████████████| 908/908 [00:01<00:00, 565.45it/s]\n"
     ]
    },
    {
     "name": "stdout",
     "output_type": "stream",
     "text": [
      "Epoch 187: Train loss = 0.1677, Test loss = 0.1836, Test accuracy = 92.66%\n"
     ]
    },
    {
     "name": "stderr",
     "output_type": "stream",
     "text": [
      "Epoch 188 - Training: 100%|██████████████████████████████████| 14526/14526 [00:19<00:00, 736.95it/s]\n",
      "Epoch 188 - Testing: 100%|███████████████████████████████████████| 908/908 [00:01<00:00, 592.61it/s]\n"
     ]
    },
    {
     "name": "stdout",
     "output_type": "stream",
     "text": [
      "Epoch 188: Train loss = 0.1684, Test loss = 0.1837, Test accuracy = 92.78%\n"
     ]
    },
    {
     "name": "stderr",
     "output_type": "stream",
     "text": [
      "Epoch 189 - Training: 100%|██████████████████████████████████| 14526/14526 [00:19<00:00, 735.53it/s]\n",
      "Epoch 189 - Testing: 100%|███████████████████████████████████████| 908/908 [00:01<00:00, 640.29it/s]\n"
     ]
    },
    {
     "name": "stdout",
     "output_type": "stream",
     "text": [
      "Epoch 189: Train loss = 0.1699, Test loss = 0.1850, Test accuracy = 92.86%\n"
     ]
    },
    {
     "name": "stderr",
     "output_type": "stream",
     "text": [
      "Epoch 190 - Training: 100%|██████████████████████████████████| 14526/14526 [00:19<00:00, 748.76it/s]\n",
      "Epoch 190 - Testing: 100%|███████████████████████████████████████| 908/908 [00:01<00:00, 594.55it/s]\n"
     ]
    },
    {
     "name": "stdout",
     "output_type": "stream",
     "text": [
      "Epoch 190: Train loss = 0.1652, Test loss = 0.1805, Test accuracy = 93.02%\n"
     ]
    },
    {
     "name": "stderr",
     "output_type": "stream",
     "text": [
      "Epoch 191 - Training: 100%|██████████████████████████████████| 14526/14526 [00:19<00:00, 736.65it/s]\n",
      "Epoch 191 - Testing: 100%|███████████████████████████████████████| 908/908 [00:01<00:00, 587.31it/s]\n"
     ]
    },
    {
     "name": "stdout",
     "output_type": "stream",
     "text": [
      "Epoch 191: Train loss = 0.1723, Test loss = 0.1881, Test accuracy = 92.63%\n"
     ]
    },
    {
     "name": "stderr",
     "output_type": "stream",
     "text": [
      "Epoch 192 - Training: 100%|██████████████████████████████████| 14526/14526 [00:19<00:00, 744.34it/s]\n",
      "Epoch 192 - Testing: 100%|███████████████████████████████████████| 908/908 [00:01<00:00, 558.14it/s]\n"
     ]
    },
    {
     "name": "stdout",
     "output_type": "stream",
     "text": [
      "Epoch 192: Train loss = 0.1729, Test loss = 0.1881, Test accuracy = 92.57%\n"
     ]
    },
    {
     "name": "stderr",
     "output_type": "stream",
     "text": [
      "Epoch 193 - Training: 100%|██████████████████████████████████| 14526/14526 [00:19<00:00, 731.37it/s]\n",
      "Epoch 193 - Testing: 100%|███████████████████████████████████████| 908/908 [00:01<00:00, 551.15it/s]\n"
     ]
    },
    {
     "name": "stdout",
     "output_type": "stream",
     "text": [
      "Epoch 193: Train loss = 0.1639, Test loss = 0.1811, Test accuracy = 92.90%\n"
     ]
    },
    {
     "name": "stderr",
     "output_type": "stream",
     "text": [
      "Epoch 194 - Training: 100%|██████████████████████████████████| 14526/14526 [00:19<00:00, 741.50it/s]\n",
      "Epoch 194 - Testing: 100%|███████████████████████████████████████| 908/908 [00:01<00:00, 604.52it/s]\n"
     ]
    },
    {
     "name": "stdout",
     "output_type": "stream",
     "text": [
      "Epoch 194: Train loss = 0.1688, Test loss = 0.1850, Test accuracy = 92.80%\n"
     ]
    },
    {
     "name": "stderr",
     "output_type": "stream",
     "text": [
      "Epoch 195 - Training: 100%|██████████████████████████████████| 14526/14526 [00:20<00:00, 721.31it/s]\n",
      "Epoch 195 - Testing: 100%|███████████████████████████████████████| 908/908 [00:01<00:00, 620.10it/s]\n"
     ]
    },
    {
     "name": "stdout",
     "output_type": "stream",
     "text": [
      "Epoch 195: Train loss = 0.1697, Test loss = 0.1856, Test accuracy = 92.71%\n"
     ]
    },
    {
     "name": "stderr",
     "output_type": "stream",
     "text": [
      "Epoch 196 - Training: 100%|██████████████████████████████████| 14526/14526 [00:19<00:00, 733.42it/s]\n",
      "Epoch 196 - Testing: 100%|███████████████████████████████████████| 908/908 [00:01<00:00, 627.41it/s]\n"
     ]
    },
    {
     "name": "stdout",
     "output_type": "stream",
     "text": [
      "Epoch 196: Train loss = 0.1663, Test loss = 0.1831, Test accuracy = 92.75%\n"
     ]
    },
    {
     "name": "stderr",
     "output_type": "stream",
     "text": [
      "Epoch 197 - Training: 100%|██████████████████████████████████| 14526/14526 [00:19<00:00, 741.87it/s]\n",
      "Epoch 197 - Testing: 100%|███████████████████████████████████████| 908/908 [00:01<00:00, 597.62it/s]\n"
     ]
    },
    {
     "name": "stdout",
     "output_type": "stream",
     "text": [
      "Epoch 197: Train loss = 0.1600, Test loss = 0.1763, Test accuracy = 92.96%\n"
     ]
    },
    {
     "name": "stderr",
     "output_type": "stream",
     "text": [
      "Epoch 198 - Training: 100%|██████████████████████████████████| 14526/14526 [00:20<00:00, 724.86it/s]\n",
      "Epoch 198 - Testing: 100%|███████████████████████████████████████| 908/908 [00:01<00:00, 626.67it/s]\n"
     ]
    },
    {
     "name": "stdout",
     "output_type": "stream",
     "text": [
      "Epoch 198: Train loss = 0.1619, Test loss = 0.1788, Test accuracy = 92.94%\n"
     ]
    },
    {
     "name": "stderr",
     "output_type": "stream",
     "text": [
      "Epoch 199 - Training: 100%|██████████████████████████████████| 14526/14526 [00:19<00:00, 736.59it/s]\n",
      "Epoch 199 - Testing: 100%|███████████████████████████████████████| 908/908 [00:01<00:00, 560.00it/s]\n"
     ]
    },
    {
     "name": "stdout",
     "output_type": "stream",
     "text": [
      "Epoch 199: Train loss = 0.1632, Test loss = 0.1788, Test accuracy = 93.05%\n"
     ]
    },
    {
     "name": "stderr",
     "output_type": "stream",
     "text": [
      "Epoch 200 - Training: 100%|██████████████████████████████████| 14526/14526 [00:19<00:00, 750.37it/s]\n",
      "Epoch 200 - Testing: 100%|███████████████████████████████████████| 908/908 [00:01<00:00, 599.09it/s]\n"
     ]
    },
    {
     "name": "stdout",
     "output_type": "stream",
     "text": [
      "Epoch 200: Train loss = 0.1744, Test loss = 0.1896, Test accuracy = 92.72%\n"
     ]
    }
   ],
   "source": [
    "for epoch in range(1, n_epochs + 1):\n",
    "    net.train()\n",
    "    with tqdm(enumerate(train_dataloader), total=len(train_dataloader), desc=f\"Epoch {epoch} - Training\", ncols=100, position=0) as t:\n",
    "        for batch_idx, (data, target) in t:\n",
    "            data, target = data.to(device), target.to(device)\n",
    "            optimizer.zero_grad()\n",
    "            out = net(data)\n",
    "            loss = criterion(out, target)\n",
    "            loss.backward()\n",
    "            optimizer.step()\n",
    "\n",
    "    net.eval()\n",
    "    train_loss_epoch = 0\n",
    "    test_loss = 0\n",
    "    test_accuracy_sum = 0\n",
    "    with tqdm(enumerate(test_dataloader), total=len(test_dataloader), desc=f\"Epoch {epoch} - Testing\", ncols=100, position=0) as t:\n",
    "        for batch_idx, (data, target) in t:\n",
    "            data, target = data.to(device), target.to(device)\n",
    "            y_pred_test = net(data)\n",
    "            loss = criterion(y_pred_test, target)\n",
    "            test_loss += loss.item()\n",
    "            test_accuracy_sum += accuracy(y_pred_test, target)\n",
    "\n",
    "    # Calculate training loss\n",
    "    for batch_idx, (data, target) in enumerate(train_dataloader):\n",
    "        data, target = data.to(device), target.to(device)\n",
    "        y_pred_train = net(data)\n",
    "        train_loss_epoch += criterion(y_pred_train, target).item()\n",
    "\n",
    "    # Update metrics\n",
    "    test_loss /= len(test_dataloader)\n",
    "    test_loss_per_epoch.append(test_loss)\n",
    "    train_loss_epoch /= len(train_dataloader)\n",
    "    train_loss_per_epoch.append(train_loss_epoch)\n",
    "    test_accuracy_avg = test_accuracy_sum / len(test_dataloader)\n",
    "    test_accuracy_per_epoch.append(test_accuracy_avg.item())\n",
    "    print(f\"Epoch {epoch}: Train loss = {train_loss_epoch:.4f}, Test loss = {test_loss:.4f}, Test accuracy = {test_accuracy_avg * 100:.2f}%\")\n"
   ]
  },
  {
   "cell_type": "code",
   "execution_count": 70,
   "metadata": {},
   "outputs": [
    {
     "data": {
      "image/png": "[encoded data removed]",
      "text/plain": [
       "<Figure size 640x480 with 1 Axes>"
      ]
     },
     "metadata": {},
     "output_type": "display_data"
    }
   ],
   "source": [
    "plt.plot(train_loss_per_epoch, label=\"Training loss\")\n",
    "plt.plot(test_loss_per_epoch, label=\"Testing loss\")\n",
    "plt.xlabel(\"Epochs\")\n",
    "plt.ylabel(\"Loss\")\n",
    "plt.title(\"Loss over epochs\")\n",
    "plt.legend()\n",
    "plt.show()"
   ]
  },
  {
   "cell_type": "code",
   "execution_count": 71,
   "metadata": {},
   "outputs": [
    {
     "data": {
      "image/png": "[encoded data removed]",
      "text/plain": [
       "<Figure size 640x480 with 1 Axes>"
      ]
     },
     "metadata": {},
     "output_type": "display_data"
    }
   ],
   "source": [
    "plt.plot(test_accuracy_per_epoch, label=\"Testing accuracy\")\n",
    "plt.xlabel(\"Epochs\")\n",
    "plt.ylabel(\"Accuracy\")\n",
    "plt.title(\"Accuracy over epochs\")\n",
    "plt.legend()\n",
    "plt.show()"
   ]
  },
  {
   "cell_type": "code",
   "execution_count": 72,
   "metadata": {},
   "outputs": [
    {
     "name": "stdout",
     "output_type": "stream",
     "text": [
      "Test accuracy: 92.72%\n",
      "Test loss: 0.1896\n"
     ]
    }
   ],
   "source": [
    "print(\"Test accuracy: {:.2f}%\".format(test_accuracy_per_epoch[-1] * 100))\n",
    "print(\"Test loss: {:.4f}\".format(test_loss_per_epoch[-1]))"
   ]
  }
 ],
 "metadata": {
  "kernelspec": {
   "display_name": "pytorch-env",
   "language": "python",
   "name": "python3"
  },
  "language_info": {
   "codemirror_mode": {
    "name": "ipython",
    "version": 3
   },
   "file_extension": ".py",
   "mimetype": "text/x-python",
   "name": "python",
   "nbconvert_exporter": "python",
   "pygments_lexer": "ipython3",
   "version": "3.9.0"
  },
  "orig_nbformat": 4
 },
 "nbformat": 4,
 "nbformat_minor": 2
}
